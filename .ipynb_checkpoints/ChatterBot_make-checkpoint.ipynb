{
 "cells": [
  {
   "cell_type": "markdown",
   "metadata": {
    "toc": "true"
   },
   "source": [
    "# Table of Contents\n",
    " <p><div class=\"lev1 toc-item\"><a href=\"#聊天机器人怎么做\" data-toc-modified-id=\"聊天机器人怎么做-1\"><span class=\"toc-item-num\">1&nbsp;&nbsp;</span>聊天机器人怎么做</a></div><div class=\"lev2 toc-item\"><a href=\"#工作原理\" data-toc-modified-id=\"工作原理-11\"><span class=\"toc-item-num\">1.1&nbsp;&nbsp;</span>工作原理</a></div><div class=\"lev2 toc-item\"><a href=\"#关键技术\" data-toc-modified-id=\"关键技术-12\"><span class=\"toc-item-num\">1.2&nbsp;&nbsp;</span>关键技术</a></div><div class=\"lev2 toc-item\"><a href=\"#技术方法\" data-toc-modified-id=\"技术方法-13\"><span class=\"toc-item-num\">1.3&nbsp;&nbsp;</span>技术方法</a></div><div class=\"lev1 toc-item\"><a href=\"#词性标注与关键词提取\" data-toc-modified-id=\"词性标注与关键词提取-2\"><span class=\"toc-item-num\">2&nbsp;&nbsp;</span>词性标注与关键词提取</a></div><div class=\"lev2 toc-item\"><a href=\"#问句解析过程\" data-toc-modified-id=\"问句解析过程-21\"><span class=\"toc-item-num\">2.1&nbsp;&nbsp;</span>问句解析过程</a></div><div class=\"lev2 toc-item\"><a href=\"#NLPIR-使用\" data-toc-modified-id=\"NLPIR-使用-22\"><span class=\"toc-item-num\">2.2&nbsp;&nbsp;</span>NLPIR 使用</a></div><div class=\"lev1 toc-item\"><a href=\"#0-字节存储海量语料资源\" data-toc-modified-id=\"0-字节存储海量语料资源-3\"><span class=\"toc-item-num\">3&nbsp;&nbsp;</span>0 字节存储海量语料资源</a></div>"
   ]
  },
  {
   "cell_type": "markdown",
   "metadata": {},
   "source": [
    "# 聊天机器人怎么做"
   ]
  },
  {
   "cell_type": "markdown",
   "metadata": {},
   "source": [
    "## 工作原理"
   ]
  },
  {
   "cell_type": "markdown",
   "metadata": {},
   "source": [
    "- 三个模块\n",
    "  - 提问处理模块\n",
    "    - 查询关键词生成\n",
    "    - 答案类型确定\n",
    "    - 句法和语义分析\n",
    "  - 检索模块\n",
    "    - 根据查询关键词进行信息检索，返回句子或段落\n",
    "  - 答案抽取模块\n",
    "    - 分析和推理从检索的句子或段落中抽取出和提问一致的实体\n",
    "    - 根据概率最大对候选答案排序"
   ]
  },
  {
   "cell_type": "markdown",
   "metadata": {},
   "source": [
    "## 关键技术"
   ]
  },
  {
   "cell_type": "markdown",
   "metadata": {},
   "source": [
    "- 海量文本知识表示\n",
    "  - 网络文本获取\n",
    "  - 机器学习方法\n",
    "  - 大规模语义计算和推理\n",
    "  - 知识表示体系\n",
    "  - 知识库构建\n",
    "- 问句解析\n",
    "  - 中文分词\n",
    "  - 词性标注\n",
    "  - 实体标注\n",
    "  - 概念类别标注\n",
    "  - 句法分析\n",
    "  - 语义分析\n",
    "  - 逻辑结构标注\n",
    "  - 指代消解\n",
    "  - 关联关系标注\n",
    "  - 问句分类\n",
    "    - 简单问句\n",
    "    - 复杂问句\n",
    "    - 实体型\n",
    "    - 段落型\n",
    "    - 篇章级\n",
    "  - 答案类别确定\n",
    "- 答案生成与过滤\n",
    "  - 候选答案抽取\n",
    "  - 关系推演\n",
    "    - 并列\n",
    "    - 递进\n",
    "    - 因果\n",
    "  - 吻合程度判断\n",
    "  - 噪声过滤"
   ]
  },
  {
   "cell_type": "markdown",
   "metadata": {},
   "source": [
    "## 技术方法"
   ]
  },
  {
   "cell_type": "markdown",
   "metadata": {},
   "source": [
    "- 基于检索的技术\n",
    "- 基于模式匹配的技术\n",
    "- 基于自然语言理解的技术\n",
    "- 基于统计翻译模型的技术"
   ]
  },
  {
   "cell_type": "markdown",
   "metadata": {},
   "source": [
    "# 词性标注与关键词提取"
   ]
  },
  {
   "cell_type": "markdown",
   "metadata": {},
   "source": [
    "## 问句解析过程"
   ]
  },
  {
   "cell_type": "markdown",
   "metadata": {},
   "source": [
    "一般问句解析需要进行分词、词性标注、命名实体识别、关键词提取、句法分析以及查询问句分类等\n",
    "\n",
    "- 第一个要数哈工大的LTP(语言技术平台)了，它可以做中文分词、词性标注、命名实体识别、依存句法分析、语义角色标注等丰富、 高效、精准的自然语言处理技术\n",
    "\n",
    "- 第二个就是博森科技了，它除了做中文分词、词性标注、命名实体识别、依存文法之外还可以做情感分析、关键词提取、新闻分类、语义联想、时间转换、新闻摘要等，但因为是商业化的公司，除了分词和词性标注免费之外全都收费\n",
    "\n",
    "- 第三个就是jieba分词，这个开源小工具分词和词性标注做的挺不错的，但是其他方面还欠缺一下，如果只是中文分词的需求完全可以满足\n",
    "\n",
    "- 第四个就是中科院张华平博士的NLPIR汉语分词系统，也能支持关键词提取"
   ]
  },
  {
   "cell_type": "markdown",
   "metadata": {},
   "source": [
    "## NLPIR 使用"
   ]
  },
  {
   "cell_type": "code",
   "execution_count": 5,
   "metadata": {
    "collapsed": false
   },
   "outputs": [],
   "source": [
    "import jieba\n",
    "import jieba.posseg as pseg\n",
    "import jieba.analyse"
   ]
  },
  {
   "cell_type": "code",
   "execution_count": 1,
   "metadata": {
    "collapsed": false
   },
   "outputs": [],
   "source": [
    "from textrank4zh import TextRank4Keyword, TextRank4Sentence"
   ]
  },
  {
   "cell_type": "code",
   "execution_count": 5,
   "metadata": {
    "collapsed": false
   },
   "outputs": [],
   "source": [
    "# coding:utf-8\n",
    "s = '聊天机器人到底该怎么做呢？'"
   ]
  },
  {
   "cell_type": "code",
   "execution_count": 46,
   "metadata": {
    "collapsed": false
   },
   "outputs": [],
   "source": [
    "segments = pseg.cut(s)"
   ]
  },
  {
   "cell_type": "code",
   "execution_count": 47,
   "metadata": {
    "collapsed": false
   },
   "outputs": [
    {
     "name": "stdout",
     "output_type": "stream",
     "text": [
      "聊天/nz\n",
      "机器人/n\n",
      "到底/d\n",
      "该/r\n",
      "怎么/r\n",
      "做/v\n",
      "呢/y\n",
      "？/x\n"
     ]
    }
   ],
   "source": [
    "for w in segments:\n",
    "    print(w)"
   ]
  },
  {
   "cell_type": "code",
   "execution_count": 19,
   "metadata": {
    "collapsed": false
   },
   "outputs": [
    {
     "data": {
      "text/plain": [
       "[u'\\u673a\\u5668\\u4eba', u'\\u505a']"
      ]
     },
     "execution_count": 19,
     "metadata": {},
     "output_type": "execute_result"
    }
   ],
   "source": [
    "jieba.analyse.textrank(s, topK=20, withWeight=False, allowPOS=('ns', 'n', 'vn', 'v'))"
   ]
  },
  {
   "cell_type": "code",
   "execution_count": 20,
   "metadata": {
    "collapsed": false
   },
   "outputs": [
    {
     "name": "stdout",
     "output_type": "stream",
     "text": [
      "机器人\n"
     ]
    }
   ],
   "source": [
    "print(u'\\u673a\\u5668\\u4eba')"
   ]
  },
  {
   "cell_type": "code",
   "execution_count": 21,
   "metadata": {
    "collapsed": false
   },
   "outputs": [
    {
     "name": "stdout",
     "output_type": "stream",
     "text": [
      "做\n"
     ]
    }
   ],
   "source": [
    "print( u'\\u505a')"
   ]
  },
  {
   "cell_type": "code",
   "execution_count": 53,
   "metadata": {
    "collapsed": false
   },
   "outputs": [
    {
     "data": {
      "text/plain": [
       "[u'\\u673a\\u5668\\u4eba', u'\\u505a']"
      ]
     },
     "execution_count": 53,
     "metadata": {},
     "output_type": "execute_result"
    }
   ],
   "source": [
    "jieba.analyse.textrank(s, topK=20, withWeight=False,allowPOS=('ns', 'n', 'vn', 'v', 'a'))"
   ]
  },
  {
   "cell_type": "code",
   "execution_count": 54,
   "metadata": {
    "collapsed": false
   },
   "outputs": [],
   "source": [
    "for w in _:\n",
    "    print(w)"
   ]
  },
  {
   "cell_type": "code",
   "execution_count": 9,
   "metadata": {
    "collapsed": true
   },
   "outputs": [],
   "source": [
    "tr4w = TextRank4Keyword()"
   ]
  },
  {
   "cell_type": "code",
   "execution_count": 10,
   "metadata": {
    "collapsed": false
   },
   "outputs": [],
   "source": [
    "tr4w.analyze(text=s, lower=True, window=2)"
   ]
  },
  {
   "cell_type": "code",
   "execution_count": 12,
   "metadata": {
    "collapsed": false
   },
   "outputs": [
    {
     "data": {
      "text/plain": [
       "[{'weight': 0.4651161545800183, 'word': u'\\u804a\\u5929'},\n",
       " {'weight': 0.4651161545800183, 'word': u'\\u673a\\u5668\\u4eba'},\n",
       " {'weight': 0.06976769083996354, 'word': u'\\u505a'}]"
      ]
     },
     "execution_count": 12,
     "metadata": {},
     "output_type": "execute_result"
    }
   ],
   "source": [
    "tr4w.get_keywords(20, word_min_len=1)"
   ]
  },
  {
   "cell_type": "code",
   "execution_count": 62,
   "metadata": {
    "collapsed": true
   },
   "outputs": [],
   "source": [
    "for item in tr4w.get_keywords(20, word_min_len=1):\n",
    "    print(item.word, item.weight)"
   ]
  },
  {
   "cell_type": "code",
   "execution_count": 63,
   "metadata": {
    "collapsed": true
   },
   "outputs": [],
   "source": [
    "print(u'\\u804a\\u5929') # 聊天"
   ]
  },
  {
   "cell_type": "markdown",
   "metadata": {
    "collapsed": true
   },
   "source": [
    "方案\n",
    "- jieba 分词 + 词性标注\n",
    "- TextRank 关键词"
   ]
  },
  {
   "cell_type": "markdown",
   "metadata": {},
   "source": [
    "# 0 字节存储海量语料资源"
   ]
  },
  {
   "cell_type": "code",
   "execution_count": null,
   "metadata": {
    "collapsed": true
   },
   "outputs": [],
   "source": []
  }
 ],
 "metadata": {
  "kernelspec": {
   "display_name": "Python 2",
   "language": "python",
   "name": "python2"
  },
  "language_info": {
   "codemirror_mode": {
    "name": "ipython",
    "version": 2
   },
   "file_extension": ".py",
   "mimetype": "text/x-python",
   "name": "python",
   "nbconvert_exporter": "python",
   "pygments_lexer": "ipython2",
   "version": "2.7.12"
  },
  "latex_envs": {
   "LaTeX_envs_menu_present": true,
   "bibliofile": "biblio.bib",
   "cite_by": "apalike",
   "current_citInitial": 1,
   "eqLabelWithNumbers": true,
   "eqNumInitial": 1,
   "hotkeys": {
    "equation": "Ctrl-E",
    "itemize": "Ctrl-I"
   },
   "labels_anchors": false,
   "latex_user_defs": false,
   "report_style_numbering": false,
   "user_envs_cfg": false
  },
  "toc": {
   "colors": {
    "hover_highlight": "#DAA520",
    "running_highlight": "#FF0000",
    "selected_highlight": "#FFD700"
   },
   "moveMenuLeft": true,
   "nav_menu": {
    "height": "0px",
    "width": "0px"
   },
   "navigate_menu": true,
   "number_sections": true,
   "sideBar": true,
   "threshold": 4,
   "toc_cell": true,
   "toc_section_display": "block",
   "toc_window_display": true
  }
 },
 "nbformat": 4,
 "nbformat_minor": 0
}
