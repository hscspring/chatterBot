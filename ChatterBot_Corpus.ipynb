{
 "cells": [
  {
   "cell_type": "markdown",
   "metadata": {
    "toc": "true"
   },
   "source": [
    "# Table of Contents\n",
    " <p><div class=\"lev1 toc-item\"><a href=\"#基于美剧字幕的聊天语料库建设方案\" data-toc-modified-id=\"基于美剧字幕的聊天语料库建设方案-1\"><span class=\"toc-item-num\">1&nbsp;&nbsp;</span>基于美剧字幕的聊天语料库建设方案</a></div><div class=\"lev2 toc-item\"><a href=\"#美剧字幕\" data-toc-modified-id=\"美剧字幕-11\"><span class=\"toc-item-num\">1.1&nbsp;&nbsp;</span>美剧字幕</a></div><div class=\"lev2 toc-item\"><a href=\"#自动抓取字幕\" data-toc-modified-id=\"自动抓取字幕-12\"><span class=\"toc-item-num\">1.2&nbsp;&nbsp;</span>自动抓取字幕</a></div><div class=\"lev1 toc-item\"><a href=\"#字幕文件处理\" data-toc-modified-id=\"字幕文件处理-2\"><span class=\"toc-item-num\">2&nbsp;&nbsp;</span>字幕文件处理</a></div><div class=\"lev2 toc-item\"><a href=\"#爬取影视剧字幕\" data-toc-modified-id=\"爬取影视剧字幕-21\"><span class=\"toc-item-num\">2.1&nbsp;&nbsp;</span>爬取影视剧字幕</a></div><div class=\"lev2 toc-item\"><a href=\"#压缩格式分类\" data-toc-modified-id=\"压缩格式分类-22\"><span class=\"toc-item-num\">2.2&nbsp;&nbsp;</span>压缩格式分类</a></div><div class=\"lev2 toc-item\"><a href=\"#解压\" data-toc-modified-id=\"解压-23\"><span class=\"toc-item-num\">2.3&nbsp;&nbsp;</span>解压</a></div><div class=\"lev2 toc-item\"><a href=\"#字幕文件分类\" data-toc-modified-id=\"字幕文件分类-24\"><span class=\"toc-item-num\">2.4&nbsp;&nbsp;</span>字幕文件分类</a></div><div class=\"lev2 toc-item\"><a href=\"#清理目录\" data-toc-modified-id=\"清理目录-25\"><span class=\"toc-item-num\">2.5&nbsp;&nbsp;</span>清理目录</a></div><div class=\"lev2 toc-item\"><a href=\"#清理非字幕文件\" data-toc-modified-id=\"清理非字幕文件-26\"><span class=\"toc-item-num\">2.6&nbsp;&nbsp;</span>清理非字幕文件</a></div><div class=\"lev2 toc-item\"><a href=\"#多层解压缩\" data-toc-modified-id=\"多层解压缩-27\"><span class=\"toc-item-num\">2.7&nbsp;&nbsp;</span>多层解压缩</a></div><div class=\"lev2 toc-item\"><a href=\"#舍弃剩余的少量文件\" data-toc-modified-id=\"舍弃剩余的少量文件-28\"><span class=\"toc-item-num\">2.8&nbsp;&nbsp;</span>舍弃剩余的少量文件</a></div><div class=\"lev2 toc-item\"><a href=\"#编码识别与转码\" data-toc-modified-id=\"编码识别与转码-29\"><span class=\"toc-item-num\">2.9&nbsp;&nbsp;</span>编码识别与转码</a></div><div class=\"lev2 toc-item\"><a href=\"#筛选中文\" data-toc-modified-id=\"筛选中文-210\"><span class=\"toc-item-num\">2.10&nbsp;&nbsp;</span>筛选中文</a></div><div class=\"lev2 toc-item\"><a href=\"#句子提取\" data-toc-modified-id=\"句子提取-211\"><span class=\"toc-item-num\">2.11&nbsp;&nbsp;</span>句子提取</a></div><div class=\"lev2 toc-item\"><a href=\"#内容过滤\" data-toc-modified-id=\"内容过滤-212\"><span class=\"toc-item-num\">2.12&nbsp;&nbsp;</span>内容过滤</a></div>"
   ]
  },
  {
   "cell_type": "markdown",
   "metadata": {},
   "source": [
    "# 基于美剧字幕的聊天语料库建设方案"
   ]
  },
  {
   "cell_type": "markdown",
   "metadata": {},
   "source": [
    "## 美剧字幕\n",
    "\n",
    "是的，你没有看错，我就是这样获取海量高质聊天语料的。外文电影或电视剧的字幕文件是一个天然的聊天语料，尤其是对话比较多的美剧最佳。为了能下载大量美剧字幕，我打算抓取字幕库网站 www.zimuku.net ,当然你也可以选择其他网站抓取。"
   ]
  },
  {
   "cell_type": "markdown",
   "metadata": {},
   "source": [
    "## 自动抓取字幕"
   ]
  },
  {
   "cell_type": "markdown",
   "metadata": {
    "collapsed": true
   },
   "source": [
    "# 字幕文件处理"
   ]
  },
  {
   "cell_type": "markdown",
   "metadata": {},
   "source": [
    "## 爬取影视剧字幕"
   ]
  },
  {
   "cell_type": "markdown",
   "metadata": {},
   "source": [
    "## 压缩格式分类"
   ]
  },
  {
   "cell_type": "markdown",
   "metadata": {},
   "source": [
    "## 解压"
   ]
  },
  {
   "cell_type": "markdown",
   "metadata": {},
   "source": [
    "## 字幕文件分类"
   ]
  },
  {
   "cell_type": "markdown",
   "metadata": {},
   "source": [
    "## 清理目录"
   ]
  },
  {
   "cell_type": "markdown",
   "metadata": {},
   "source": [
    "## 清理非字幕文件"
   ]
  },
  {
   "cell_type": "markdown",
   "metadata": {},
   "source": [
    "## 多层解压缩"
   ]
  },
  {
   "cell_type": "markdown",
   "metadata": {},
   "source": [
    "## 舍弃剩余的少量文件"
   ]
  },
  {
   "cell_type": "markdown",
   "metadata": {},
   "source": [
    "## 编码识别与转码"
   ]
  },
  {
   "cell_type": "markdown",
   "metadata": {},
   "source": [
    "## 筛选中文"
   ]
  },
  {
   "cell_type": "markdown",
   "metadata": {},
   "source": [
    "## 句子提取"
   ]
  },
  {
   "cell_type": "markdown",
   "metadata": {},
   "source": [
    "## 内容过滤"
   ]
  },
  {
   "cell_type": "code",
   "execution_count": null,
   "metadata": {
    "collapsed": true
   },
   "outputs": [],
   "source": []
  }
 ],
 "metadata": {
  "kernelspec": {
   "display_name": "Python 2",
   "language": "python",
   "name": "python2"
  },
  "language_info": {
   "codemirror_mode": {
    "name": "ipython",
    "version": 2
   },
   "file_extension": ".py",
   "mimetype": "text/x-python",
   "name": "python",
   "nbconvert_exporter": "python",
   "pygments_lexer": "ipython2",
   "version": "2.7.12"
  },
  "latex_envs": {
   "LaTeX_envs_menu_present": true,
   "bibliofile": "biblio.bib",
   "cite_by": "apalike",
   "current_citInitial": 1,
   "eqLabelWithNumbers": true,
   "eqNumInitial": 1,
   "hotkeys": {
    "equation": "Ctrl-E",
    "itemize": "Ctrl-I"
   },
   "labels_anchors": false,
   "latex_user_defs": false,
   "report_style_numbering": false,
   "user_envs_cfg": false
  },
  "toc": {
   "colors": {
    "hover_highlight": "#DAA520",
    "running_highlight": "#FF0000",
    "selected_highlight": "#FFD700"
   },
   "moveMenuLeft": true,
   "nav_menu": {
    "height": "0px",
    "width": "0px"
   },
   "navigate_menu": true,
   "number_sections": true,
   "sideBar": true,
   "threshold": 4,
   "toc_cell": true,
   "toc_position": {
    "height": "620px",
    "left": "0px",
    "right": "1115px",
    "top": "34px",
    "width": "212px"
   },
   "toc_section_display": "block",
   "toc_window_display": true
  }
 },
 "nbformat": 4,
 "nbformat_minor": 0
}
